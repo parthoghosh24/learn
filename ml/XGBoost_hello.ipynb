{
  "nbformat": 4,
  "nbformat_minor": 0,
  "metadata": {
    "colab": {
      "name": "XGBoost_hello.ipynb",
      "provenance": []
    },
    "kernelspec": {
      "name": "python3",
      "display_name": "Python 3"
    }
  },
  "cells": [
    {
      "cell_type": "code",
      "metadata": {
        "id": "lBLJkOmrZi4O"
      },
      "source": [
        "import xgboost as xgb\n",
        "import numpy as np"
      ],
      "execution_count": 1,
      "outputs": []
    },
    {
      "cell_type": "code",
      "metadata": {
        "id": "OcxGB1poebm-"
      },
      "source": [
        "data = np.random.rand(100,10)"
      ],
      "execution_count": 16,
      "outputs": []
    },
    {
      "cell_type": "code",
      "metadata": {
        "id": "CdfEi4dAehh5"
      },
      "source": [
        "label = np.random.randint(2, size=100)"
      ],
      "execution_count": 17,
      "outputs": []
    },
    {
      "cell_type": "code",
      "metadata": {
        "id": "lY5M5UO9epnb"
      },
      "source": [
        "dtrain = xgb.DMatrix(data, label=label)"
      ],
      "execution_count": 18,
      "outputs": []
    },
    {
      "cell_type": "code",
      "metadata": {
        "id": "eEVRrOV7ewrG"
      },
      "source": [
        "dtest = dtrain"
      ],
      "execution_count": 19,
      "outputs": []
    },
    {
      "cell_type": "code",
      "metadata": {
        "id": "t2bYWpsCe017"
      },
      "source": [
        "param = {'bst:max_depth':2, 'bst:eta':1, 'silent':1, 'objective':'binary:logistic'}\n",
        "param['nthread']=4\n",
        "param['eval_metric']='auc'"
      ],
      "execution_count": 20,
      "outputs": []
    },
    {
      "cell_type": "code",
      "metadata": {
        "id": "OCZfvTfwfUhd"
      },
      "source": [
        "evallist = [(dtest, 'eval'),(dtrain, 'train')]"
      ],
      "execution_count": 21,
      "outputs": []
    },
    {
      "cell_type": "code",
      "metadata": {
        "id": "NvuUOlbcff23",
        "outputId": "c9bcbf69-347e-4b3d-d336-c0f2241f99f1",
        "colab": {
          "base_uri": "https://localhost:8080/",
          "height": 191
        }
      },
      "source": [
        "num_round = 10\n",
        "bst = xgb.train(param, dtrain, num_round, evallist)"
      ],
      "execution_count": 22,
      "outputs": [
        {
          "output_type": "stream",
          "text": [
            "[0]\teval-auc:0.933575\ttrain-auc:0.933575\n",
            "[1]\teval-auc:0.968196\ttrain-auc:0.968196\n",
            "[2]\teval-auc:0.995974\ttrain-auc:0.995974\n",
            "[3]\teval-auc:0.999195\ttrain-auc:0.999195\n",
            "[4]\teval-auc:0.999195\ttrain-auc:0.999195\n",
            "[5]\teval-auc:1\ttrain-auc:1\n",
            "[6]\teval-auc:1\ttrain-auc:1\n",
            "[7]\teval-auc:1\ttrain-auc:1\n",
            "[8]\teval-auc:1\ttrain-auc:1\n",
            "[9]\teval-auc:1\ttrain-auc:1\n"
          ],
          "name": "stdout"
        }
      ]
    },
    {
      "cell_type": "code",
      "metadata": {
        "id": "1WcLV9kHg6Qc"
      },
      "source": [
        ""
      ],
      "execution_count": null,
      "outputs": []
    }
  ]
}